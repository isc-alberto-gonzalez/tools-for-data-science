{
 "cells": [
  {
   "cell_type": "markdown",
   "id": "ef65b3ba-d55b-4339-b278-44a1b1db54a7",
   "metadata": {},
   "source": [
    "# Data Science Tools and Ecosystem"
   ]
  },
  {
   "cell_type": "markdown",
   "id": "012f2113-d092-4673-9308-0e879a69d746",
   "metadata": {},
   "source": [
    "In this notebook, Data Science Tools and Ecosystem are summarized."
   ]
  },
  {
   "cell_type": "markdown",
   "id": "ff0deb62-1c3f-4fc8-9767-c7ff893ae46f",
   "metadata": {},
   "source": [
    "__Objectives :__\n",
    "\n",
    "- Popular languages that Data Scientists use are\n",
    "- Commonly used libraries used by Data Scientists include\n",
    "- Data Science Tools\n"
   ]
  },
  {
   "cell_type": "markdown",
   "id": "2e7c8a1f-48d2-42b6-85a1-7462be032e73",
   "metadata": {},
   "source": [
    "Some of the popular languages that Data Scientists use are:\n",
    "\n",
    "1. Python\n",
    "2. R\n",
    "3. Javascript"
   ]
  },
  {
   "cell_type": "markdown",
   "id": "50ba4bfe-3c1e-4eeb-9ffc-0eecbb4519b8",
   "metadata": {},
   "source": [
    "Some of the commonly used libraries used by Data Scientists include:\n",
    "\n",
    "1. Pandas\n",
    "2. TensorFlow\n",
    "3. Keras"
   ]
  },
  {
   "cell_type": "markdown",
   "id": "606d09ca-adb2-4893-8b3a-2ac7d7534c1c",
   "metadata": {},
   "source": [
    "| Data Science Tools | \n",
    "| -------------| \n",
    "| RStudio | \n",
    "| Apache Spark | \n",
    "| Apache Hadoop | "
   ]
  },
  {
   "cell_type": "markdown",
   "id": "f8c6514e-e19d-4113-8932-87e5cf942ad1",
   "metadata": {},
   "source": [
    "### Below are a few examples of evaluating arithmetic expressions in Python\n",
    "\n",
    "#### x + y\n",
    "#### x - y\n",
    "#### x * y\n",
    "#### x / y"
   ]
  },
  {
   "cell_type": "code",
   "execution_count": 1,
   "id": "51230f14-2699-42ac-9bc5-b4d4344eaace",
   "metadata": {
    "tags": []
   },
   "outputs": [
    {
     "data": {
      "text/plain": [
       "17"
      ]
     },
     "execution_count": 1,
     "metadata": {},
     "output_type": "execute_result"
    }
   ],
   "source": [
    "# This a simple arithmetic expression to mutiply then add integers\n",
    "\n",
    "(3*4)+5"
   ]
  },
  {
   "cell_type": "code",
   "execution_count": 2,
   "id": "a0e91fc9-6d57-40db-ace4-1fe04da392c8",
   "metadata": {
    "tags": []
   },
   "outputs": [
    {
     "data": {
      "text/plain": [
       "3.3333333333333335"
      ]
     },
     "execution_count": 2,
     "metadata": {},
     "output_type": "execute_result"
    }
   ],
   "source": [
    "# This will convert 200 minutes to hours by diving by 60\n",
    "\n",
    "200/60"
   ]
  },
  {
   "cell_type": "markdown",
   "id": "09f80a4e-212a-47b8-9369-0c10c7875874",
   "metadata": {},
   "source": [
    "## Author\n",
    "\n",
    "Juan Alberto Gonzalez Alvarado"
   ]
  }
 ],
 "metadata": {
  "kernelspec": {
   "display_name": "Python",
   "language": "python",
   "name": "conda-env-python-py"
  },
  "language_info": {
   "codemirror_mode": {
    "name": "ipython",
    "version": 3
   },
   "file_extension": ".py",
   "mimetype": "text/x-python",
   "name": "python",
   "nbconvert_exporter": "python",
   "pygments_lexer": "ipython3",
   "version": "3.7.12"
  }
 },
 "nbformat": 4,
 "nbformat_minor": 5
}
